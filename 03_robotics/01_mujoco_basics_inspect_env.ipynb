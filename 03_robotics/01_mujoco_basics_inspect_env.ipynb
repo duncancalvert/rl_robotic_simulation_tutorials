{
  "cells": [
    {
      "cell_type": "markdown",
      "metadata": {},
      "source": [
        "# MuJoCo Basics: Inspecting Environment Dynamics\n",
        "\n",
        "In this tutorial:\n",
        "- Create a MuJoCo environment (e.g., `HalfCheetah-v4`)\n",
        "- Inspect observation/action spaces and physics parameters\n",
        "- Step the environment and visualize rollouts (headless or human render)\n"
      ]
    },
    {
      "cell_type": "code",
      "execution_count": null,
      "metadata": {},
      "outputs": [],
      "source": [
        "import gymnasium as gym\n",
        "\n",
        "env = gym.make(\"HalfCheetah-v4\")\n",
        "print(\"Obs:\", env.observation_space)\n",
        "print(\"Act:\", env.action_space)\n",
        "\n",
        "obs, _ = env.reset()\n",
        "ret = 0\n",
        "for t in range(1000):\n",
        "    act = env.action_space.sample()\n",
        "    obs, r, term, trunc, info = env.step(act)\n",
        "    ret += r\n",
        "    if term or trunc:\n",
        "        break\n",
        "print(\"Random rollout return:\", ret)\n",
        "env.close()\n"
      ]
    }
  ],
  "metadata": {
    "language_info": {
      "name": "python"
    }
  },
  "nbformat": 4,
  "nbformat_minor": 2
}
