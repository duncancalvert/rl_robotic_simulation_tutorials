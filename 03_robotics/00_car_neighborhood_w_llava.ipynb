{
 "cells": [
  {
   "cell_type": "markdown",
   "metadata": {},
   "source": [
    "# Car + Neighborhood + LLaVA"
   ]
  },
  {
   "cell_type": "code",
   "execution_count": null,
   "metadata": {},
   "outputs": [],
   "source": [
    "from grid.robot.wheeled.airgen_car import AirGenCar\n",
    "car = AirGenCar()\n",
    "\n",
    "from grid.model.perception.segmentation.gsam import GroundedSAM\n",
    "seg_gsam_0 = GroundedSAM()\n",
    "\n",
    "from grid.model.perception.vlm.llava import LLaVA\n",
    "\n",
    "# Get image\n",
    "img =  car.getImage(\"front_center\", \"rgb\").data\n",
    "\n",
    "model = LLaVA(use_local = False)\n",
    "result = model.run(img, prompt=\"am I about to hit anything in front of me\")\n",
    "print(result)"
   ]
  },
  {
   "cell_type": "code",
   "execution_count": null,
   "metadata": {},
   "outputs": [],
   "source": [
    "car.setCarControls(steering=0, throttle=1, brake=0)\n",
    "car.reset()"
   ]
  }
 ],
 "metadata": {
  "kernelspec": {
   "display_name": "Python 3",
   "language": "python",
   "name": "python3"
  },
  "language_info": {
   "codemirror_mode": {
    "name": "ipython",
    "version": 3
   },
   "file_extension": ".py",
   "mimetype": "text/x-python",
   "name": "python",
   "nbconvert_exporter": "python",
   "pygments_lexer": "ipython3",
   "version": "3.12.8"
  }
 },
 "nbformat": 4,
 "nbformat_minor": 2
}
