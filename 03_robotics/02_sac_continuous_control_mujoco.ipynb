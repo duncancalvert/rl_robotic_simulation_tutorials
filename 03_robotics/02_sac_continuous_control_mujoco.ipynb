{
  "cells": [
    {
      "cell_type": "markdown",
      "metadata": {},
      "source": [
        "# Soft Actor-Critic (SAC) on MuJoCo\n",
        "\n",
        "Train SAC on `HalfCheetah-v4` using Stable-Baselines3 for continuous control.\n",
        "\n",
        "What you'll do:\n",
        "- Instantiate environment and normalize observations\n",
        "- Configure SAC hyperparameters\n",
        "- Train, evaluate, and visualize returns\n"
      ]
    },
    {
      "cell_type": "code",
      "execution_count": null,
      "metadata": {},
      "outputs": [],
      "source": [
        "import gymnasium as gym\n",
        "from stable_baselines3 import SAC\n",
        "from stable_baselines3.common.monitor import Monitor\n",
        "from stable_baselines3.common.evaluation import evaluate_policy\n",
        "\n",
        "env = Monitor(gym.make(\"HalfCheetah-v4\"))\n",
        "model = SAC(\"MlpPolicy\", env, learning_rate=3e-4, buffer_size=300_000, batch_size=256, tau=0.005, gamma=0.99, verbose=1)\n",
        "# model.learn(total_timesteps=1_000_000)\n",
        "# print(evaluate_policy(model, env, n_eval_episodes=10))\n"
      ]
    }
  ],
  "metadata": {
    "language_info": {
      "name": "python"
    }
  },
  "nbformat": 4,
  "nbformat_minor": 2
}
