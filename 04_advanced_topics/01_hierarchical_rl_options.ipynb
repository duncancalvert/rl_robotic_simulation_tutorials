{
  "cells": [
    {
      "cell_type": "markdown",
      "metadata": {},
      "source": [
        "# Hierarchical Reinforcement Learning: Options Framework (Concepts + Mini Demo)\n",
        "\n",
        "In this notebook:\n",
        "- Understand options (intra-option policy, initiation set, termination)\n",
        "- Build a toy gridworld with two subgoals\n",
        "- Learn high-level policy over options and simple sub-policies\n"
      ]
    }
  ],
  "metadata": {
    "language_info": {
      "name": "python"
    }
  },
  "nbformat": 4,
  "nbformat_minor": 2
}
